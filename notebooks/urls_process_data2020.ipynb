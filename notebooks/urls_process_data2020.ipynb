{
 "cells": [
  {
   "cell_type": "code",
   "execution_count": 1,
   "metadata": {},
   "outputs": [],
   "source": [
    "import bz2\n",
    "import json\n",
    "import pandas as pd\n",
    "from matplotlib import pyplot as plt\n",
    "import seaborn as sns"
   ]
  },
  {
   "cell_type": "code",
   "execution_count": 2,
   "metadata": {},
   "outputs": [],
   "source": [
    "\"the path file is decompressed from quotes-2020-domains.json.bz2, and we use data to read the file\"\n",
    "path = 'quotes-2020-domains.json'\n",
    "data = []\n",
    "for line in open(path, 'r'):\n",
    "    data.append(json.loads(line))"
   ]
  },
  {
   "cell_type": "markdown",
   "metadata": {},
   "source": [
    "## a) select the urls and analyse the distribution"
   ]
  },
  {
   "cell_type": "code",
   "execution_count": 3,
   "metadata": {},
   "outputs": [
    {
     "name": "stdout",
     "output_type": "stream",
     "text": [
      "87448\n",
      "735740\n",
      "786494\n",
      "800756\n",
      "871791\n",
      "1042621\n",
      "1112261\n",
      "1114795\n",
      "1159309\n",
      "1174151\n",
      "1237674\n",
      "1442340\n",
      "1575324\n",
      "1800589\n",
      "1819775\n",
      "1856809\n",
      "1915368\n",
      "2049979\n",
      "2139215\n",
      "2208062\n",
      "2425742\n",
      "2438437\n",
      "2456994\n",
      "2690125\n",
      "2710012\n",
      "2712024\n",
      "2884305\n",
      "3277789\n",
      "3443471\n",
      "3635849\n",
      "3688676\n",
      "3711873\n",
      "3736197\n",
      "3906279\n",
      "3944420\n",
      "4048033\n",
      "4069961\n",
      "4193828\n",
      "4403699\n",
      "4831264\n",
      "4998896\n",
      "5073036\n",
      "5125905\n",
      "5135919\n",
      "5241514\n"
     ]
    }
   ],
   "source": [
    "\"This code is used to extract the information from the urls can get the main imformation of urls\"\n",
    "# http:// + main information + / + details -> main information\n",
    "urls = []\n",
    "for i in range(len(data)):\n",
    "    urls.append(data[i][\"urls\"])\n",
    "    \n",
    "url1 = []\n",
    "for i in range(len(urls)):   \n",
    "    url1.append(urls[i][0][urls[i][0].index(\"//\"):])\n",
    "\n",
    "url2 = []\n",
    "for i in range(len(url1)):   \n",
    "    url2.append(url1[i][2:])\n",
    "\n",
    "url_sample = []\n",
    "for i in range(len(url2)):   \n",
    "    try:\n",
    "        url_sample.append(url2[i][:url2[i].index('/')])\n",
    "    except:\n",
    "        print(i) # print the index of urls where not have a \"/\" after the main information"
   ]
  },
  {
   "cell_type": "code",
   "execution_count": 4,
   "metadata": {},
   "outputs": [],
   "source": [
    "url_sample1 = url_sample # take the all rows"
   ]
  },
  {
   "cell_type": "code",
   "execution_count": 5,
   "metadata": {},
   "outputs": [],
   "source": [
    "url_sample_distinct = list(set(url_sample1)) \n",
    "count = []\n",
    "\n",
    "for i in url_sample_distinct:\n",
    "    t = url_sample1.count(i)\n",
    "    count.append(t)"
   ]
  },
  {
   "cell_type": "code",
   "execution_count": 6,
   "metadata": {},
   "outputs": [],
   "source": [
    "df = pd.DataFrame(columns=['urls', 'counts'])\n",
    "df['urls'] = url_sample_distinct\n",
    "df['counts'] = count"
   ]
  },
  {
   "cell_type": "code",
   "execution_count": 7,
   "metadata": {},
   "outputs": [],
   "source": [
    "df = df.sort_values(by = 'counts', ascending=False)\n",
    "df.reset_index(inplace=True)"
   ]
  },
  {
   "cell_type": "code",
   "execution_count": 8,
   "metadata": {},
   "outputs": [
    {
     "data": {
      "text/html": [
       "<div>\n",
       "<style scoped>\n",
       "    .dataframe tbody tr th:only-of-type {\n",
       "        vertical-align: middle;\n",
       "    }\n",
       "\n",
       "    .dataframe tbody tr th {\n",
       "        vertical-align: top;\n",
       "    }\n",
       "\n",
       "    .dataframe thead th {\n",
       "        text-align: right;\n",
       "    }\n",
       "</style>\n",
       "<table border=\"1\" class=\"dataframe\">\n",
       "  <thead>\n",
       "    <tr style=\"text-align: right;\">\n",
       "      <th></th>\n",
       "      <th>index</th>\n",
       "      <th>urls</th>\n",
       "      <th>counts</th>\n",
       "    </tr>\n",
       "  </thead>\n",
       "  <tbody>\n",
       "    <tr>\n",
       "      <th>0</th>\n",
       "      <td>4695</td>\n",
       "      <td>www.breitbart.com</td>\n",
       "      <td>44371</td>\n",
       "    </tr>\n",
       "    <tr>\n",
       "      <th>1</th>\n",
       "      <td>8510</td>\n",
       "      <td>www.msn.com</td>\n",
       "      <td>38730</td>\n",
       "    </tr>\n",
       "    <tr>\n",
       "      <th>2</th>\n",
       "      <td>12676</td>\n",
       "      <td>express.co.uk</td>\n",
       "      <td>32279</td>\n",
       "    </tr>\n",
       "    <tr>\n",
       "      <th>3</th>\n",
       "      <td>9345</td>\n",
       "      <td>msn.com</td>\n",
       "      <td>28687</td>\n",
       "    </tr>\n",
       "    <tr>\n",
       "      <th>4</th>\n",
       "      <td>10746</td>\n",
       "      <td>www.seattletimes.com</td>\n",
       "      <td>25936</td>\n",
       "    </tr>\n",
       "    <tr>\n",
       "      <th>...</th>\n",
       "      <td>...</td>\n",
       "      <td>...</td>\n",
       "      <td>...</td>\n",
       "    </tr>\n",
       "    <tr>\n",
       "      <th>13784</th>\n",
       "      <td>11780</td>\n",
       "      <td>revstephanietemplinashford.wordpress.com</td>\n",
       "      <td>1</td>\n",
       "    </tr>\n",
       "    <tr>\n",
       "      <th>13785</th>\n",
       "      <td>9526</td>\n",
       "      <td>celebritynewsgh.wordpress.com</td>\n",
       "      <td>1</td>\n",
       "    </tr>\n",
       "    <tr>\n",
       "      <th>13786</th>\n",
       "      <td>5327</td>\n",
       "      <td>peabodyinstitute.wordpress.com</td>\n",
       "      <td>1</td>\n",
       "    </tr>\n",
       "    <tr>\n",
       "      <th>13787</th>\n",
       "      <td>2529</td>\n",
       "      <td>huntthedevil.wordpress.com</td>\n",
       "      <td>1</td>\n",
       "    </tr>\n",
       "    <tr>\n",
       "      <th>13788</th>\n",
       "      <td>0</td>\n",
       "      <td>www.retailgazette.co.uk</td>\n",
       "      <td>1</td>\n",
       "    </tr>\n",
       "  </tbody>\n",
       "</table>\n",
       "<p>13789 rows × 3 columns</p>\n",
       "</div>"
      ],
      "text/plain": [
       "       index                                      urls  counts\n",
       "0       4695                         www.breitbart.com   44371\n",
       "1       8510                               www.msn.com   38730\n",
       "2      12676                             express.co.uk   32279\n",
       "3       9345                                   msn.com   28687\n",
       "4      10746                      www.seattletimes.com   25936\n",
       "...      ...                                       ...     ...\n",
       "13784  11780  revstephanietemplinashford.wordpress.com       1\n",
       "13785   9526             celebritynewsgh.wordpress.com       1\n",
       "13786   5327            peabodyinstitute.wordpress.com       1\n",
       "13787   2529                huntthedevil.wordpress.com       1\n",
       "13788      0                   www.retailgazette.co.uk       1\n",
       "\n",
       "[13789 rows x 3 columns]"
      ]
     },
     "execution_count": 8,
     "metadata": {},
     "output_type": "execute_result"
    }
   ],
   "source": [
    "df"
   ]
  },
  {
   "cell_type": "code",
   "execution_count": 9,
   "metadata": {},
   "outputs": [],
   "source": [
    "df_sample = df[:10]"
   ]
  },
  {
   "cell_type": "code",
   "execution_count": 42,
   "metadata": {},
   "outputs": [
    {
     "data": {
      "text/plain": [
       "Text(0.5, 1.0, 'The number of times appear for top 10 News Vendors')"
      ]
     },
     "execution_count": 42,
     "metadata": {},
     "output_type": "execute_result"
    },
    {
     "data": {
      "image/png": "[encoded data removed]",
      "text/plain": [
       "<Figure size 800x480 with 1 Axes>"
      ]
     },
     "metadata": {
      "needs_background": "light"
     },
     "output_type": "display_data"
    }
   ],
   "source": [
    "plt.figure(figsize=(10, 6), dpi=80)\n",
    "ax = sns.barplot(x=\"urls\", y=\"counts\", data=df_sample)\n",
    "plt.xticks(rotation='15')\n",
    "plt.title(\"The number of times appear for top 10 News Vendors\")"
   ]
  },
  {
   "cell_type": "code",
   "execution_count": 44,
   "metadata": {},
   "outputs": [
    {
     "data": {
      "text/plain": [
       "Text(0.5, 1.0, 'The distribution of times appear for different News Vendors')"
      ]
     },
     "execution_count": 44,
     "metadata": {},
     "output_type": "execute_result"
    },
    {
     "data": {
      "image/png": "[encoded data removed]",
      "text/plain": [
       "<Figure size 800x480 with 1 Axes>"
      ]
     },
     "metadata": {
      "needs_background": "light"
     },
     "output_type": "display_data"
    }
   ],
   "source": [
    "plt.figure(figsize=(10, 6), dpi=80)\n",
    "ax = sns.barplot(x=\"urls\", y=\"counts\", data=df[:1000:10])\n",
    "plt.xticks([])\n",
    "plt.title(\"The distribution of times appear for different News Vendors\")"
   ]
  },
  {
   "cell_type": "markdown",
   "metadata": {},
   "source": [
    "## b)do the same thing for the speaker"
   ]
  },
  {
   "cell_type": "code",
   "execution_count": 93,
   "metadata": {},
   "outputs": [],
   "source": [
    "person = []\n",
    "for i in range(len(data)):\n",
    "    person.append(data[i][\"speaker\"])"
   ]
  },
  {
   "cell_type": "code",
   "execution_count": 94,
   "metadata": {},
   "outputs": [],
   "source": [
    "person = person[:100000]"
   ]
  },
  {
   "cell_type": "code",
   "execution_count": 95,
   "metadata": {},
   "outputs": [],
   "source": [
    "person_distinct = list(set(person)) \n",
    "counts = []\n",
    "\n",
    "for i in person_distinct:\n",
    "    t = url_sample1.count(i)\n",
    "    counts.append(t)"
   ]
  },
  {
   "cell_type": "code",
   "execution_count": 96,
   "metadata": {},
   "outputs": [],
   "source": [
    "df1 = pd.DataFrame(columns=['person', 'counts'])\n",
    "df1['person'] = person_distinct\n",
    "df1['counts'] = counts"
   ]
  },
  {
   "cell_type": "code",
   "execution_count": 97,
   "metadata": {},
   "outputs": [],
   "source": [
    "df1 = df1.sort_values(by = 'counts', ascending=False)"
   ]
  },
  {
   "cell_type": "code",
   "execution_count": 102,
   "metadata": {},
   "outputs": [],
   "source": [
    "df1.reset_index(inplace=True)"
   ]
  },
  {
   "cell_type": "code",
   "execution_count": 104,
   "metadata": {},
   "outputs": [
    {
     "data": {
      "text/html": [
       "<div>\n",
       "<style scoped>\n",
       "    .dataframe tbody tr th:only-of-type {\n",
       "        vertical-align: middle;\n",
       "    }\n",
       "\n",
       "    .dataframe tbody tr th {\n",
       "        vertical-align: top;\n",
       "    }\n",
       "\n",
       "    .dataframe thead th {\n",
       "        text-align: right;\n",
       "    }\n",
       "</style>\n",
       "<table border=\"1\" class=\"dataframe\">\n",
       "  <thead>\n",
       "    <tr style=\"text-align: right;\">\n",
       "      <th></th>\n",
       "      <th>index</th>\n",
       "      <th>person</th>\n",
       "      <th>counts</th>\n",
       "    </tr>\n",
       "  </thead>\n",
       "  <tbody>\n",
       "    <tr>\n",
       "      <th>0</th>\n",
       "      <td>28823</td>\n",
       "      <td>None</td>\n",
       "      <td>34316</td>\n",
       "    </tr>\n",
       "    <tr>\n",
       "      <th>1</th>\n",
       "      <td>32759</td>\n",
       "      <td>President Donald Trump</td>\n",
       "      <td>567</td>\n",
       "    </tr>\n",
       "    <tr>\n",
       "      <th>2</th>\n",
       "      <td>30214</td>\n",
       "      <td>Joe Biden</td>\n",
       "      <td>266</td>\n",
       "    </tr>\n",
       "    <tr>\n",
       "      <th>3</th>\n",
       "      <td>8457</td>\n",
       "      <td>Bernie Sanders</td>\n",
       "      <td>258</td>\n",
       "    </tr>\n",
       "    <tr>\n",
       "      <th>4</th>\n",
       "      <td>8871</td>\n",
       "      <td>President Trump</td>\n",
       "      <td>225</td>\n",
       "    </tr>\n",
       "    <tr>\n",
       "      <th>5</th>\n",
       "      <td>17609</td>\n",
       "      <td>Andrew Cuomo</td>\n",
       "      <td>205</td>\n",
       "    </tr>\n",
       "    <tr>\n",
       "      <th>6</th>\n",
       "      <td>16247</td>\n",
       "      <td>Elizabeth Warren</td>\n",
       "      <td>160</td>\n",
       "    </tr>\n",
       "    <tr>\n",
       "      <th>7</th>\n",
       "      <td>13820</td>\n",
       "      <td>Narendra Modi</td>\n",
       "      <td>149</td>\n",
       "    </tr>\n",
       "  </tbody>\n",
       "</table>\n",
       "</div>"
      ],
      "text/plain": [
       "   index                  person  counts\n",
       "0  28823                    None   34316\n",
       "1  32759  President Donald Trump     567\n",
       "2  30214               Joe Biden     266\n",
       "3   8457          Bernie Sanders     258\n",
       "4   8871         President Trump     225\n",
       "5  17609            Andrew Cuomo     205\n",
       "6  16247        Elizabeth Warren     160\n",
       "7  13820           Narendra Modi     149"
      ]
     },
     "execution_count": 104,
     "metadata": {},
     "output_type": "execute_result"
    }
   ],
   "source": [
    "df1[:8]"
   ]
  },
  {
   "cell_type": "markdown",
   "metadata": {},
   "source": [
    "## c) choose the urls according to the top popular speaker"
   ]
  },
  {
   "cell_type": "code",
   "execution_count": 100,
   "metadata": {},
   "outputs": [],
   "source": [
    "## 1 President Donald Trump&President Trump\n",
    "## 2 Joe Biden\n",
    "## 3 Bernie Sanders\n",
    "## 4 Andrew Cuomo\n",
    "## 5 Elizabeth Warren\n",
    "## 6 Narendra Modi\n",
    "## 7 Scott Morrison\n",
    "## 8 Mike Pompeo"
   ]
  },
  {
   "cell_type": "code",
   "execution_count": 105,
   "metadata": {},
   "outputs": [],
   "source": [
    "person_urls = []\n",
    "for i in range(len(data)):\n",
    "    person_urls.append(data[i][\"speaker\"])\n",
    "    person_urls.append(data[i][\"urls\"])"
   ]
  },
  {
   "cell_type": "markdown",
   "metadata": {},
   "source": [
    "### 1 first, we collect the urls conected to trump"
   ]
  },
  {
   "cell_type": "code",
   "execution_count": 125,
   "metadata": {},
   "outputs": [],
   "source": [
    "trump_urls = []\n",
    "for i in range(int(len(person_urls)/2)):\n",
    "    if person_urls[2*i] == 'President Donald Trump':\n",
    "        trump_urls.append(person_urls[2*i+1])\n",
    "    if person_urls[2*i] == 'President Trump':\n",
    "        trump_urls.append(person_urls[2*i+1])"
   ]
  },
  {
   "cell_type": "code",
   "execution_count": 128,
   "metadata": {},
   "outputs": [],
   "source": [
    "trump_url1=[]\n",
    "for i in range(len(trump_urls)):   \n",
    "    trump_url1.append(trump_urls[i][0][trump_urls[i][0].index(\"//\"):])\n",
    "\n",
    "trump_url2 = []\n",
    "for i in range(len(trump_url1)):   \n",
    "    trump_url2.append(trump_url1[i][2:])\n",
    "\n",
    "trump_url_sample = []\n",
    "for i in range(len(trump_url2)):   \n",
    "    try:\n",
    "        trump_url_sample.append(trump_url2[i][:trump_url2[i].index('/')])\n",
    "    except:\n",
    "        print(i) # print the index of urls where not have a \"/\" after the main information"
   ]
  },
  {
   "cell_type": "code",
   "execution_count": 130,
   "metadata": {},
   "outputs": [],
   "source": [
    "trump_url_distinct = list(set(trump_url_sample)) \n",
    "trump_counts = []\n",
    "\n",
    "for i in trump_url_distinct:\n",
    "    t = trump_url_sample.count(i)\n",
    "    trump_counts.append(t)"
   ]
  },
  {
   "cell_type": "code",
   "execution_count": 134,
   "metadata": {},
   "outputs": [],
   "source": [
    "trump_df = pd.DataFrame(columns=['urls', 'counts'])\n",
    "trump_df['urls'] = trump_url_distinct\n",
    "trump_df['counts'] = trump_counts\n",
    "trump_df = trump_df.sort_values(by = 'counts', ascending=False)\n",
    "trump_df.reset_index(inplace=True)"
   ]
  },
  {
   "cell_type": "code",
   "execution_count": 144,
   "metadata": {},
   "outputs": [],
   "source": [
    "trump = trump_df['urls'][:10]"
   ]
  },
  {
   "cell_type": "markdown",
   "metadata": {},
   "source": [
    "### 2 then, we collect the urls conected to biden"
   ]
  },
  {
   "cell_type": "code",
   "execution_count": 137,
   "metadata": {},
   "outputs": [],
   "source": [
    "biden_urls = []\n",
    "for i in range(int(len(person_urls)/2)):\n",
    "    if person_urls[2*i] == 'Joe Biden':\n",
    "        biden_urls.append(person_urls[2*i+1])"
   ]
  },
  {
   "cell_type": "code",
   "execution_count": 138,
   "metadata": {},
   "outputs": [],
   "source": [
    "biden_url1=[]\n",
    "for i in range(len(biden_urls)):   \n",
    "    biden_url1.append(biden_urls[i][0][biden_urls[i][0].index(\"//\"):])\n",
    "\n",
    "biden_url2 = []\n",
    "for i in range(len(biden_url1)):   \n",
    "    biden_url2.append(biden_url1[i][2:])\n",
    "\n",
    "biden_url_sample = []\n",
    "for i in range(len(biden_url2)):   \n",
    "    try:\n",
    "        biden_url_sample.append(biden_url2[i][:biden_url2[i].index('/')])\n",
    "    except:\n",
    "        print(i) # print the index of urls where not have a \"/\" after the main information"
   ]
  },
  {
   "cell_type": "code",
   "execution_count": 140,
   "metadata": {},
   "outputs": [],
   "source": [
    "biden_url_distinct = list(set(biden_url_sample)) \n",
    "biden_counts = []\n",
    "\n",
    "for i in biden_url_distinct:\n",
    "    t = biden_url_sample.count(i)\n",
    "    biden_counts.append(t)\n",
    "\n",
    "biden_df = pd.DataFrame(columns=['urls', 'counts'])\n",
    "biden_df['urls'] = biden_url_distinct\n",
    "biden_df['counts'] = biden_counts\n",
    "biden_df = biden_df.sort_values(by = 'counts', ascending=False)\n",
    "biden_df.reset_index(inplace=True)"
   ]
  },
  {
   "cell_type": "code",
   "execution_count": 145,
   "metadata": {},
   "outputs": [],
   "source": [
    "biden = biden_df['urls'][:10]"
   ]
  },
  {
   "cell_type": "code",
   "execution_count": 152,
   "metadata": {},
   "outputs": [
    {
     "data": {
      "text/html": [
       "<div>\n",
       "<style scoped>\n",
       "    .dataframe tbody tr th:only-of-type {\n",
       "        vertical-align: middle;\n",
       "    }\n",
       "\n",
       "    .dataframe tbody tr th {\n",
       "        vertical-align: top;\n",
       "    }\n",
       "\n",
       "    .dataframe thead th {\n",
       "        text-align: right;\n",
       "    }\n",
       "</style>\n",
       "<table border=\"1\" class=\"dataframe\">\n",
       "  <thead>\n",
       "    <tr style=\"text-align: right;\">\n",
       "      <th></th>\n",
       "      <th>index</th>\n",
       "      <th>urls</th>\n",
       "      <th>counts</th>\n",
       "    </tr>\n",
       "  </thead>\n",
       "  <tbody>\n",
       "    <tr>\n",
       "      <th>0</th>\n",
       "      <td>768</td>\n",
       "      <td>www.breitbart.com</td>\n",
       "      <td>1044</td>\n",
       "    </tr>\n",
       "    <tr>\n",
       "      <th>1</th>\n",
       "      <td>1123</td>\n",
       "      <td>www.msn.com</td>\n",
       "      <td>941</td>\n",
       "    </tr>\n",
       "    <tr>\n",
       "      <th>2</th>\n",
       "      <td>91</td>\n",
       "      <td>feeds.foxnews.com</td>\n",
       "      <td>733</td>\n",
       "    </tr>\n",
       "    <tr>\n",
       "      <th>3</th>\n",
       "      <td>1793</td>\n",
       "      <td>thehill.com</td>\n",
       "      <td>712</td>\n",
       "    </tr>\n",
       "    <tr>\n",
       "      <th>4</th>\n",
       "      <td>874</td>\n",
       "      <td>www.rawstory.com</td>\n",
       "      <td>700</td>\n",
       "    </tr>\n",
       "    <tr>\n",
       "      <th>5</th>\n",
       "      <td>1909</td>\n",
       "      <td>www.washingtonexaminer.com</td>\n",
       "      <td>624</td>\n",
       "    </tr>\n",
       "    <tr>\n",
       "      <th>6</th>\n",
       "      <td>352</td>\n",
       "      <td>hypervocal.com</td>\n",
       "      <td>591</td>\n",
       "    </tr>\n",
       "    <tr>\n",
       "      <th>7</th>\n",
       "      <td>2434</td>\n",
       "      <td>www.foxnews.com</td>\n",
       "      <td>574</td>\n",
       "    </tr>\n",
       "    <tr>\n",
       "      <th>8</th>\n",
       "      <td>1798</td>\n",
       "      <td>www.nbcnews.com</td>\n",
       "      <td>541</td>\n",
       "    </tr>\n",
       "    <tr>\n",
       "      <th>9</th>\n",
       "      <td>1575</td>\n",
       "      <td>www.newsmax.com</td>\n",
       "      <td>499</td>\n",
       "    </tr>\n",
       "  </tbody>\n",
       "</table>\n",
       "</div>"
      ],
      "text/plain": [
       "   index                        urls  counts\n",
       "0    768           www.breitbart.com    1044\n",
       "1   1123                 www.msn.com     941\n",
       "2     91           feeds.foxnews.com     733\n",
       "3   1793                 thehill.com     712\n",
       "4    874            www.rawstory.com     700\n",
       "5   1909  www.washingtonexaminer.com     624\n",
       "6    352              hypervocal.com     591\n",
       "7   2434             www.foxnews.com     574\n",
       "8   1798             www.nbcnews.com     541\n",
       "9   1575             www.newsmax.com     499"
      ]
     },
     "execution_count": 152,
     "metadata": {},
     "output_type": "execute_result"
    }
   ],
   "source": [
    "trump_df[:10]"
   ]
  },
  {
   "cell_type": "code",
   "execution_count": 150,
   "metadata": {},
   "outputs": [
    {
     "data": {
      "text/html": [
       "<div>\n",
       "<style scoped>\n",
       "    .dataframe tbody tr th:only-of-type {\n",
       "        vertical-align: middle;\n",
       "    }\n",
       "\n",
       "    .dataframe tbody tr th {\n",
       "        vertical-align: top;\n",
       "    }\n",
       "\n",
       "    .dataframe thead th {\n",
       "        text-align: right;\n",
       "    }\n",
       "</style>\n",
       "<table border=\"1\" class=\"dataframe\">\n",
       "  <thead>\n",
       "    <tr style=\"text-align: right;\">\n",
       "      <th></th>\n",
       "      <th>index</th>\n",
       "      <th>urls</th>\n",
       "      <th>counts</th>\n",
       "    </tr>\n",
       "  </thead>\n",
       "  <tbody>\n",
       "    <tr>\n",
       "      <th>0</th>\n",
       "      <td>531</td>\n",
       "      <td>uspolitics.einnews.com</td>\n",
       "      <td>602</td>\n",
       "    </tr>\n",
       "    <tr>\n",
       "      <th>1</th>\n",
       "      <td>868</td>\n",
       "      <td>www.msn.com</td>\n",
       "      <td>434</td>\n",
       "    </tr>\n",
       "    <tr>\n",
       "      <th>2</th>\n",
       "      <td>148</td>\n",
       "      <td>feeds.foxnews.com</td>\n",
       "      <td>383</td>\n",
       "    </tr>\n",
       "    <tr>\n",
       "      <th>3</th>\n",
       "      <td>119</td>\n",
       "      <td>www.washingtonexaminer.com</td>\n",
       "      <td>353</td>\n",
       "    </tr>\n",
       "    <tr>\n",
       "      <th>4</th>\n",
       "      <td>267</td>\n",
       "      <td>www.breitbart.com</td>\n",
       "      <td>341</td>\n",
       "    </tr>\n",
       "    <tr>\n",
       "      <th>5</th>\n",
       "      <td>958</td>\n",
       "      <td>www.nbcnews.com</td>\n",
       "      <td>329</td>\n",
       "    </tr>\n",
       "    <tr>\n",
       "      <th>6</th>\n",
       "      <td>1028</td>\n",
       "      <td>www.foxnews.com</td>\n",
       "      <td>241</td>\n",
       "    </tr>\n",
       "    <tr>\n",
       "      <th>7</th>\n",
       "      <td>950</td>\n",
       "      <td>thehill.com</td>\n",
       "      <td>226</td>\n",
       "    </tr>\n",
       "    <tr>\n",
       "      <th>8</th>\n",
       "      <td>573</td>\n",
       "      <td>hypervocal.com</td>\n",
       "      <td>217</td>\n",
       "    </tr>\n",
       "    <tr>\n",
       "      <th>9</th>\n",
       "      <td>991</td>\n",
       "      <td>cnn.com</td>\n",
       "      <td>186</td>\n",
       "    </tr>\n",
       "  </tbody>\n",
       "</table>\n",
       "</div>"
      ],
      "text/plain": [
       "   index                        urls  counts\n",
       "0    531      uspolitics.einnews.com     602\n",
       "1    868                 www.msn.com     434\n",
       "2    148           feeds.foxnews.com     383\n",
       "3    119  www.washingtonexaminer.com     353\n",
       "4    267           www.breitbart.com     341\n",
       "5    958             www.nbcnews.com     329\n",
       "6   1028             www.foxnews.com     241\n",
       "7    950                 thehill.com     226\n",
       "8    573              hypervocal.com     217\n",
       "9    991                     cnn.com     186"
      ]
     },
     "execution_count": 150,
     "metadata": {},
     "output_type": "execute_result"
    }
   ],
   "source": [
    "biden_df[:10]"
   ]
  },
  {
   "cell_type": "markdown",
   "metadata": {},
   "source": [
    "### 3 we plot different counts for  selected urls according to these two person"
   ]
  },
  {
   "cell_type": "code",
   "execution_count": 182,
   "metadata": {},
   "outputs": [],
   "source": [
    "# www.breitbart.com\n",
    "# www.msn.com\n",
    "# feeds.foxnews.com\n",
    "# thehill.com\n",
    "# uspolitics.einnews.com\n",
    "# www.foxnews.com\n",
    "# www.breitbart.com\n",
    "# www.nbcnews.com\n",
    "x = ['www.breitbart.com','www.msn.com','feeds.foxnews.com','thehill.com','uspolitics.einnews.com','hypervocal.com']\n",
    "y1 = []\n",
    "for i in x:\n",
    "    y1.append(int(trump_df[trump_df['urls']==i]['counts']))"
   ]
  },
  {
   "cell_type": "code",
   "execution_count": 183,
   "metadata": {},
   "outputs": [],
   "source": [
    "y2 = []\n",
    "for i in x:\n",
    "    y2.append(int(biden_df[biden_df['urls']==i]['counts']))"
   ]
  },
  {
   "cell_type": "code",
   "execution_count": 190,
   "metadata": {},
   "outputs": [
    {
     "data": {
      "text/plain": [
       "<matplotlib.legend.Legend at 0x1ce54be66c8>"
      ]
     },
     "execution_count": 190,
     "metadata": {},
     "output_type": "execute_result"
    },
    {
     "data": {
      "image/png": "[encoded data removed]",
      "text/plain": [
       "<Figure size 432x288 with 1 Axes>"
      ]
     },
     "metadata": {
      "needs_background": "light"
     },
     "output_type": "display_data"
    }
   ],
   "source": [
    "plt.plot(x,y1,label='Trump')\n",
    "plt.plot(x,y2,label='Biden')\n",
    "plt.xticks(rotation='15')\n",
    "plt.legend()"
   ]
  },
  {
   "cell_type": "code",
   "execution_count": null,
   "metadata": {},
   "outputs": [],
   "source": []
  }
 ],
 "metadata": {
  "kernelspec": {
   "display_name": "Python 3",
   "language": "python",
   "name": "python3"
  },
  "language_info": {
   "codemirror_mode": {
    "name": "ipython",
    "version": 3
   },
   "file_extension": ".py",
   "mimetype": "text/x-python",
   "name": "python",
   "nbconvert_exporter": "python",
   "pygments_lexer": "ipython3",
   "version": "3.7.6"
  }
 },
 "nbformat": 4,
 "nbformat_minor": 4
}
