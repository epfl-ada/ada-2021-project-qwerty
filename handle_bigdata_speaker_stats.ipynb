{
 "cells": [
  {
   "cell_type": "code",
   "execution_count": 1,
   "metadata": {},
   "outputs": [],
   "source": [
    "import pandas as pd\n",
    "import numpy as np\n",
    "import matplotlib.pyplot as plt"
   ]
  },
  {
   "cell_type": "markdown",
   "metadata": {},
   "source": [
    "### Load the data for each years with a chunksize because the data is too big to fit in the RAM"
   ]
  },
  {
   "cell_type": "code",
   "execution_count": 2,
   "metadata": {},
   "outputs": [],
   "source": [
    "df_2015 = pd.read_json(\"DATA\\quotes-2015.json-004.bz2\", compression=\"bz2\", chunksize=1000000, lines=True, encoding='UTF-8')\n",
    "df_2016 = pd.read_json(\"DATA\\quotes-2016.json-002.bz2\", compression=\"bz2\", chunksize=1000000, lines=True, encoding='UTF-8')\n",
    "df_2017 = pd.read_json(\"DATA\\quotes-2017.json-005.bz2\", compression=\"bz2\", chunksize=1000000, lines=True, encoding='UTF-8')\n",
    "df_2018 = pd.read_json(\"DATA\\quotes-2018.json-006.bz2\", compression=\"bz2\", chunksize=1000000, lines=True, encoding='UTF-8')\n",
    "df_2019 = pd.read_json(\"DATA\\quotes-2019.json-003.bz2\", compression=\"bz2\", chunksize=1000000, lines=True, encoding='UTF-8')"
   ]
  },
  {
   "cell_type": "markdown",
   "metadata": {},
   "source": [
    "### Get the most popular speakers\n",
    "We get the most popular speaker by suming the number of occurrences quotations for each speaker and then sort them in descending order. Indeed if a speaker is more often cited, it means that he is more popular.  \n",
    "Here we use only a sample of the data (the first batch) !"
   ]
  },
  {
   "cell_type": "code",
   "execution_count": 3,
   "metadata": {},
   "outputs": [],
   "source": [
    "#a.groupby(a['speaker']).quotation.count().sort_values(ascending=False).head(10)\n",
    "top15_popular_2015 = next(df_2015).groupby('speaker').numOccurrences.sum().sort_values(ascending=False).head(15)\n",
    "top15_popular_2016 = next(df_2016).groupby('speaker').numOccurrences.sum().sort_values(ascending=False).head(15)\n",
    "top15_popular_2017 = next(df_2017).groupby('speaker').numOccurrences.sum().sort_values(ascending=False).head(15)\n",
    "top15_popular_2018 = next(df_2018).groupby('speaker').numOccurrences.sum().sort_values(ascending=False).head(15)\n",
    "top15_popular_2019 = next(df_2019).groupby('speaker').numOccurrences.sum().sort_values(ascending=False).head(15)"
   ]
  },
  {
   "cell_type": "markdown",
   "metadata": {},
   "source": [
    "### Top 15 most popular speakers for each years"
   ]
  },
  {
   "cell_type": "code",
   "execution_count": 9,
   "metadata": {},
   "outputs": [
    {
     "name": "stdout",
     "output_type": "stream",
     "text": [
      "speaker\n",
      "None                      1473345\n",
      "Mark-Paul Gosselaar         25627\n",
      "Donald Trump                20767\n",
      "President Barack Obama      19340\n",
      "Pope Francis                13398\n",
      "Jeb Bush                     7066\n",
      "Hillary Clinton              6976\n",
      "Josh Earnest                 6125\n",
      "President Obama              5830\n",
      "John Kerry                   5770\n",
      "Angela Merkel                5532\n",
      "Bill Cosby                   5284\n",
      "Tony Abbott                  4707\n",
      "Narendra Modi                4622\n",
      "Benjamin Netanyahu           4442\n",
      "Name: numOccurrences, dtype: int64\n",
      "speaker\n",
      "None                      1425169\n",
      "Donald Trump                95801\n",
      "Hillary Clinton             28929\n",
      "President Barack Obama      20693\n",
      "John Mackey ,               11035\n",
      "Bernie Sanders               9414\n",
      "Malcolm Turnbull             7153\n",
      "Ted Cruz                     6842\n",
      "John Kerry                   6527\n",
      "Pope Francis                 6120\n",
      "Mike Pence                   5472\n",
      "President Obama              5172\n",
      "Boris Johnson                4866\n",
      "Joe Biden                    4657\n",
      "Paul Ryan                    4462\n",
      "Name: numOccurrences, dtype: int64\n",
      "speaker\n",
      "None                          2759280\n",
      "Mike Holmes                    345488\n",
      "John Mackey ,                  143153\n",
      "Brandon Green                  125931\n",
      "President Donald Trump         118986\n",
      "Meghan , Duchess of Sussex      99000\n",
      "David Caballero                 94906\n",
      "Ramón Méndez                    57630\n",
      "President Trump                 11079\n",
      "Paul Ryan                        8514\n",
      "Rex Tillerson                    8239\n",
      "Prime Minister Theresa May       7935\n",
      "John McCain                      7406\n",
      "Jeff Sessions                    7001\n",
      "Donald Trump                     6662\n",
      "Name: numOccurrences, dtype: int64\n",
      "speaker\n",
      "None                          1526504\n",
      "President Donald Trump         111513\n",
      "Mike Holmes                      9643\n",
      "President Trump                  9251\n",
      "Meghan , Duchess of Sussex       7733\n",
      "Jose Mourinho                    7345\n",
      "Theresa May                      6821\n",
      "Mike Pence                       6754\n",
      "Mike Pompeo                      5865\n",
      "Boris Johnson                    5780\n",
      "Emmanuel Macron                  5652\n",
      "Donald Trump                     5496\n",
      "Jeremy Corbyn                    5390\n",
      "Pope Francis                     5385\n",
      "James Comey                      5141\n",
      "Name: numOccurrences, dtype: int64\n",
      "speaker\n",
      "None                      1196960\n",
      "President Donald Trump      54003\n",
      "Sam Bishop                  22324\n",
      "Boris Johnson               14572\n",
      "Jeremy Corbyn               10680\n",
      "Nancy Pelosi                10652\n",
      "Joe Biden                    9977\n",
      "President Trump              8607\n",
      "Narendra Modi                6825\n",
      "Mike Pompeo                  6766\n",
      "Donald Trump                 6006\n",
      "Elizabeth Warren             4867\n",
      "Ben Lyons                    4839\n",
      "Pep Guardiola                4823\n",
      "Jurgen Klopp                 4757\n",
      "Name: numOccurrences, dtype: int64\n"
     ]
    }
   ],
   "source": [
    "print(top15_popular_2015)\n",
    "print(top15_popular_2016)\n",
    "print(top15_popular_2017)\n",
    "print(top15_popular_2018)\n",
    "print(top15_popular_2019)"
   ]
  },
  {
   "cell_type": "code",
   "execution_count": 24,
   "metadata": {},
   "outputs": [
    {
     "data": {
      "text/plain": [
       "[20767, 95801, 118986, 111513, 54003]"
      ]
     },
     "execution_count": 24,
     "metadata": {},
     "output_type": "execute_result"
    }
   ],
   "source": [
    "donald_trump_pop_2015 = top15_popular_2015[top15_popular_2015.index == 'Donald Trump'].values\n",
    "donald_trump_pop_2016 = top15_popular_2016[top15_popular_2016.index == 'Donald Trump'].values\n",
    "donald_trump_pop_2017 = top15_popular_2017[top15_popular_2017.index == 'President Donald Trump'].values\n",
    "donald_trump_pop_2018 = top15_popular_2018[top15_popular_2018.index == 'President Donald Trump'].values\n",
    "donald_trump_pop_2019 = top15_popular_2019[top15_popular_2019.index == 'President Donald Trump'].values\n",
    "\n",
    "donald_trump_pop_years = []\n",
    "donald_trump_pop_years.append(donald_trump_pop_2015.item())\n",
    "donald_trump_pop_years.append(donald_trump_pop_2016.item())\n",
    "donald_trump_pop_years.append(donald_trump_pop_2017.item())\n",
    "donald_trump_pop_years.append(donald_trump_pop_2018.item())\n",
    "donald_trump_pop_years.append(donald_trump_pop_2019.item())\n",
    "donald_trump_pop_years"
   ]
  },
  {
   "cell_type": "code",
   "execution_count": 25,
   "metadata": {},
   "outputs": [],
   "source": [
    "years = [2015, 2016, 2017, 2018, 2019]"
   ]
  },
  {
   "cell_type": "markdown",
   "metadata": {},
   "source": [
    "## Donald Trump popularity from 2015 to 2019"
   ]
  },
  {
   "cell_type": "code",
   "execution_count": 39,
   "metadata": {},
   "outputs": [
    {
     "data": {
      "image/png": "[encoded data removed]",
      "text/plain": [
       "<Figure size 432x288 with 1 Axes>"
      ]
     },
     "metadata": {
      "needs_background": "light"
     },
     "output_type": "display_data"
    }
   ],
   "source": [
    "fig, ax = plt.subplots()\n",
    "ax.plot(years, donald_trump_pop_years)\n",
    "ax.set(xlabel='Years', ylabel='Popularity', title='Trump popularity')\n",
    "plt.show()"
   ]
  },
  {
   "cell_type": "markdown",
   "metadata": {},
   "source": [
    "### Example of how we can apply the most popular speaker on all the data and not only on a batch"
   ]
  },
  {
   "cell_type": "code",
   "execution_count": null,
   "metadata": {},
   "outputs": [],
   "source": [
    "chunk_list = []\n",
    "for batch in df:\n",
    "    more_popular = batch.groupby(batch['speaker']).numOccurrences.sum().sort_values(ascending=False).head(15)\n",
    "    chunk_list.append(more_popular)\n",
    "df_concat = pd.concat(chunk_list)\n",
    "df_concat.groupby(['speaker']).sum().sort_values(ascending=False)"
   ]
  },
  {
   "cell_type": "code",
   "execution_count": 51,
   "metadata": {},
   "outputs": [],
   "source": [
    "wikidata = pd.read_csv('DATA/wikidata_labels_descriptions.csv.bz2', compression='bz2', index_col='QID', chunksize=1000000)"
   ]
  },
  {
   "cell_type": "markdown",
   "metadata": {},
   "source": [
    "### Get the QIDs associated to Donald Trump from wikidata"
   ]
  },
  {
   "cell_type": "code",
   "execution_count": 72,
   "metadata": {},
   "outputs": [],
   "source": [
    "QID_trump_list = []\n",
    "for batch in wikidata:\n",
    "    QID_trump = batch[(batch.index == 'Q22686') | (batch.index == 'Q27947481')]\n",
    "    if len(QID_trump.values) != 0:\n",
    "        QID_trump_list.append(QID_trump)"
   ]
  },
  {
   "cell_type": "code",
   "execution_count": 74,
   "metadata": {},
   "outputs": [
    {
     "data": {
      "text/plain": [
       "[               Label                          Description\n",
       " QID                                                      \n",
       " Q22686  Donald Trump  45th president of the United States,\n",
       "                   Label         Description\n",
       " QID                                        \n",
       " Q27947481  Donald Trump  American physician]"
      ]
     },
     "execution_count": 74,
     "metadata": {},
     "output_type": "execute_result"
    }
   ],
   "source": [
    "QID_trump_list"
   ]
  },
  {
   "cell_type": "code",
   "execution_count": 42,
   "metadata": {},
   "outputs": [],
   "source": [
    "batch_2015 = next(df_2015)"
   ]
  },
  {
   "cell_type": "code",
   "execution_count": 88,
   "metadata": {},
   "outputs": [
    {
     "data": {
      "text/plain": [
       "['Q22686', 'Q27947481']"
      ]
     },
     "execution_count": 88,
     "metadata": {},
     "output_type": "execute_result"
    }
   ],
   "source": [
    "QIDs_Trump = batch_2015[batch_2015['speaker'] == 'Donald Trump']['qids'].head(1).values.item()\n",
    "QIDs_Trump"
   ]
  },
  {
   "cell_type": "code",
   "execution_count": 93,
   "metadata": {},
   "outputs": [],
   "source": [
    "presidents = batch_2015[batch_2015['speaker'].str.contains('President')]"
   ]
  },
  {
   "cell_type": "code",
   "execution_count": 94,
   "metadata": {},
   "outputs": [
    {
     "data": {
      "text/plain": [
       "array(['President Obama', 'President Barack Obama', 'President Bush',\n",
       "       'President George W. Bush', 'President Bill Clinton',\n",
       "       'President Jimmy Carter', 'President Clinton',\n",
       "       'President Donald Trump', 'President Mahama',\n",
       "       'President George H. W. Bush', 'President Trump',\n",
       "       'President Carter', 'President Maduro',\n",
       "       'President George H.W. Bush', 'Kid President', 'President Monson'],\n",
       "      dtype=object)"
      ]
     },
     "execution_count": 94,
     "metadata": {},
     "output_type": "execute_result"
    }
   ],
   "source": [
    "presidents['speaker'].unique()"
   ]
  },
  {
   "cell_type": "code",
   "execution_count": null,
   "metadata": {},
   "outputs": [],
   "source": []
  },
  {
   "cell_type": "code",
   "execution_count": null,
   "metadata": {},
   "outputs": [],
   "source": []
  }
 ],
 "metadata": {
  "kernelspec": {
   "display_name": "Python 3",
   "language": "python",
   "name": "python3"
  },
  "language_info": {
   "codemirror_mode": {
    "name": "ipython",
    "version": 3
   },
   "file_extension": ".py",
   "mimetype": "text/x-python",
   "name": "python",
   "nbconvert_exporter": "python",
   "pygments_lexer": "ipython3",
   "version": "3.7.4"
  }
 },
 "nbformat": 4,
 "nbformat_minor": 2
}
