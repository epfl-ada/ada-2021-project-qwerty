{
  "nbformat": 4,
  "nbformat_minor": 0,
  "metadata": {
    "colab": {
      "name": "News_topic_extraction.ipynb",
      "provenance": [],
      "collapsed_sections": []
    },
    "kernelspec": {
      "name": "python3",
      "display_name": "Python 3"
    },
    "language_info": {
      "name": "python"
    }
  },
  "cells": [
    {
      "cell_type": "code",
      "metadata": {
        "id": "CEcIlRwfWY4C",
        "colab": {
          "base_uri": "https://localhost:8080/"
        },
        "outputId": "17712ac9-9067-440a-8ef7-e325d296e2a7"
      },
      "source": [
        "from google.colab import drive\n",
        "drive.mount('/content/drive')"
      ],
      "execution_count": null,
      "outputs": [
        {
          "output_type": "stream",
          "name": "stdout",
          "text": [
            "Mounted at /content/drive\n"
          ]
        }
      ]
    },
    {
      "cell_type": "code",
      "metadata": {
        "id": "t7BjB7AW9qst",
        "colab": {
          "base_uri": "https://localhost:8080/"
        },
        "outputId": "1b79d0dd-c68d-45be-bd84-fd9ac7ae7c51"
      },
      "source": [
        "!pip install tld"
      ],
      "execution_count": null,
      "outputs": [
        {
          "output_type": "stream",
          "name": "stdout",
          "text": [
            "Collecting tld\n",
            "  Downloading tld-0.12.6-py37-none-any.whl (412 kB)\n",
            "\u001b[?25l\r\u001b[K     |▉                               | 10 kB 25.4 MB/s eta 0:00:01\r\u001b[K     |█▋                              | 20 kB 32.1 MB/s eta 0:00:01\r\u001b[K     |██▍                             | 30 kB 15.3 MB/s eta 0:00:01\r\u001b[K     |███▏                            | 40 kB 11.4 MB/s eta 0:00:01\r\u001b[K     |████                            | 51 kB 5.5 MB/s eta 0:00:01\r\u001b[K     |████▊                           | 61 kB 5.8 MB/s eta 0:00:01\r\u001b[K     |█████▋                          | 71 kB 5.2 MB/s eta 0:00:01\r\u001b[K     |██████▍                         | 81 kB 5.8 MB/s eta 0:00:01\r\u001b[K     |███████▏                        | 92 kB 5.8 MB/s eta 0:00:01\r\u001b[K     |████████                        | 102 kB 5.1 MB/s eta 0:00:01\r\u001b[K     |████████▊                       | 112 kB 5.1 MB/s eta 0:00:01\r\u001b[K     |█████████▌                      | 122 kB 5.1 MB/s eta 0:00:01\r\u001b[K     |██████████▍                     | 133 kB 5.1 MB/s eta 0:00:01\r\u001b[K     |███████████▏                    | 143 kB 5.1 MB/s eta 0:00:01\r\u001b[K     |████████████                    | 153 kB 5.1 MB/s eta 0:00:01\r\u001b[K     |████████████▊                   | 163 kB 5.1 MB/s eta 0:00:01\r\u001b[K     |█████████████▌                  | 174 kB 5.1 MB/s eta 0:00:01\r\u001b[K     |██████████████▎                 | 184 kB 5.1 MB/s eta 0:00:01\r\u001b[K     |███████████████                 | 194 kB 5.1 MB/s eta 0:00:01\r\u001b[K     |████████████████                | 204 kB 5.1 MB/s eta 0:00:01\r\u001b[K     |████████████████▊               | 215 kB 5.1 MB/s eta 0:00:01\r\u001b[K     |█████████████████▌              | 225 kB 5.1 MB/s eta 0:00:01\r\u001b[K     |██████████████████▎             | 235 kB 5.1 MB/s eta 0:00:01\r\u001b[K     |███████████████████             | 245 kB 5.1 MB/s eta 0:00:01\r\u001b[K     |███████████████████▉            | 256 kB 5.1 MB/s eta 0:00:01\r\u001b[K     |████████████████████▊           | 266 kB 5.1 MB/s eta 0:00:01\r\u001b[K     |█████████████████████▌          | 276 kB 5.1 MB/s eta 0:00:01\r\u001b[K     |██████████████████████▎         | 286 kB 5.1 MB/s eta 0:00:01\r\u001b[K     |███████████████████████         | 296 kB 5.1 MB/s eta 0:00:01\r\u001b[K     |███████████████████████▉        | 307 kB 5.1 MB/s eta 0:00:01\r\u001b[K     |████████████████████████▋       | 317 kB 5.1 MB/s eta 0:00:01\r\u001b[K     |█████████████████████████▍      | 327 kB 5.1 MB/s eta 0:00:01\r\u001b[K     |██████████████████████████▎     | 337 kB 5.1 MB/s eta 0:00:01\r\u001b[K     |███████████████████████████     | 348 kB 5.1 MB/s eta 0:00:01\r\u001b[K     |███████████████████████████▉    | 358 kB 5.1 MB/s eta 0:00:01\r\u001b[K     |████████████████████████████▋   | 368 kB 5.1 MB/s eta 0:00:01\r\u001b[K     |█████████████████████████████▍  | 378 kB 5.1 MB/s eta 0:00:01\r\u001b[K     |██████████████████████████████▏ | 389 kB 5.1 MB/s eta 0:00:01\r\u001b[K     |███████████████████████████████ | 399 kB 5.1 MB/s eta 0:00:01\r\u001b[K     |███████████████████████████████▉| 409 kB 5.1 MB/s eta 0:00:01\r\u001b[K     |████████████████████████████████| 412 kB 5.1 MB/s \n",
            "\u001b[?25hInstalling collected packages: tld\n",
            "Successfully installed tld-0.12.6\n"
          ]
        }
      ]
    },
    {
      "cell_type": "markdown",
      "metadata": {
        "id": "DK4YmTdA9wmY"
      },
      "source": [
        "Following function then gives domain name. It takes as an argument an URL and returns the domain name:"
      ]
    },
    {
      "cell_type": "code",
      "metadata": {
        "id": "IdhreeYc8XEX"
      },
      "source": [
        "from tld import get_tld\n",
        "import matplotlib.pyplot as plt\n",
        "import pandas as pd\n",
        "\n",
        "def get_domain(url):\n",
        "    res = get_tld(url, as_object=True)\n",
        "    return res.tld\n"
      ],
      "execution_count": null,
      "outputs": []
    },
    {
      "cell_type": "markdown",
      "metadata": {
        "id": "2V67aCknDjgY"
      },
      "source": [
        "Read the Data"
      ]
    },
    {
      "cell_type": "code",
      "metadata": {
        "id": "aHMv0FD0Eh_W"
      },
      "source": [
        "import bz2\n",
        "import json\n",
        "\n",
        "path_to_file = '/content/drive/MyDrive/quotes-2019-nytimes.json.bz2' \n",
        "#path_to_out = '/content/quotes-2020-domains.json.bz2'\n",
        "domains = []\n",
        "speakers = []\n",
        "quotation = []\n",
        "popularity = []\n",
        "\n",
        "with bz2.open(path_to_file, 'rb') as s_file:\n",
        "        for instance in s_file:\n",
        "            instance = json.loads(instance) # loading a sample\n",
        "            urls = instance['urls'] # extracting list of links\n",
        "            popularity.append(len(instance['urls']) - 1)\n",
        "            domains.append(instance['urls'])\n",
        "            quotation.append(instance['quotation'])\n",
        "            speakers.append(instance['speaker'])\n",
        "            \n",
        "            "
      ],
      "execution_count": null,
      "outputs": []
    },
    {
      "cell_type": "markdown",
      "metadata": {
        "id": "5EPdkSlnwG0d"
      },
      "source": [
        "Extract NYT Links from the domain"
      ]
    },
    {
      "cell_type": "code",
      "metadata": {
        "id": "k8dnoIUqFl3S"
      },
      "source": [
        "\n",
        "from urllib.parse import * \n",
        "parse_url = urlparse(domains[1][0])\n",
        "nyt_urls = []\n",
        "non_nyt = []\n",
        "\n",
        "for domain in domains:\n",
        "  count = 0\n",
        "  for url in domain:\n",
        "    parsed_url = urlparse(url)\n",
        "    if parsed_url.netloc == 'www.nytimes.com' or parsed_url.netloc == 'nytimes.com' or parsed_url.netloc == 'mobile.nytimes.com' or parsed_url.netloc == 'feeds.nytimes.com':\n",
        "      nyt_urls.append(parsed_url)\n",
        "      count = 1  \n",
        "      break \n",
        "  if count == 0:\n",
        "    nyt_urls.append(urlparse('https://www.nytimes.com/unknown'))\n",
        "    non_nyt.append(domain)\n",
        "\n"
      ],
      "execution_count": null,
      "outputs": []
    },
    {
      "cell_type": "code",
      "metadata": {
        "id": "89cDv8V9S3ZX"
      },
      "source": [
        ""
      ],
      "execution_count": null,
      "outputs": []
    },
    {
      "cell_type": "markdown",
      "metadata": {
        "id": "r0Z71f5iwQ6m"
      },
      "source": [
        "Extract Topics from NYT Links"
      ]
    },
    {
      "cell_type": "code",
      "metadata": {
        "id": "qSHHi1osGQCu"
      },
      "source": [
        "topics = []\n",
        "for url in nyt_urls:\n",
        "  count = 0\n",
        "  start = 12\n",
        "  if url.path[1:] == 'unknown':\n",
        "    topics.append('unknown')\n",
        "    continue  \n",
        "  if url.netloc == 'feeds.nytimes.com':\n",
        "    start = 24\n",
        "  if url.path[1:12] == 'interactive':\n",
        "    start = 24\n",
        "  if url.path[1:5] == 'live':\n",
        "    topics.append('live')\n",
        "    continue  \n",
        "  \n",
        "  for letter in url.path[start:]:\n",
        "    if letter == '/':\n",
        "      break\n",
        "    count = count+ 1\n",
        "  topics.append(url.path[start:][:count])"
      ],
      "execution_count": null,
      "outputs": []
    },
    {
      "cell_type": "markdown",
      "metadata": {
        "id": "bLf8RRFHwX0b"
      },
      "source": [
        "Create Pandas DataFrame. Contains Topic, Speaker, Quotation which are defined above and popularity which is the number of news outlets that have shared the news item"
      ]
    },
    {
      "cell_type": "code",
      "metadata": {
        "id": "CoSqeXRQGS5R",
        "colab": {
          "base_uri": "https://localhost:8080/",
          "height": 204
        },
        "outputId": "7dee9644-26fb-4026-b852-8f30254b77fb"
      },
      "source": [
        "\n",
        "data = pd.DataFrame(topics, columns =['topic'])\n",
        "data['speaker'] = speakers\n",
        "data['quotation'] = quotation\n",
        "data['popularity'] = popularity\n",
        "data.head()\n"
      ],
      "execution_count": null,
      "outputs": [
        {
          "output_type": "execute_result",
          "data": {
            "text/html": [
              "<div>\n",
              "<style scoped>\n",
              "    .dataframe tbody tr th:only-of-type {\n",
              "        vertical-align: middle;\n",
              "    }\n",
              "\n",
              "    .dataframe tbody tr th {\n",
              "        vertical-align: top;\n",
              "    }\n",
              "\n",
              "    .dataframe thead th {\n",
              "        text-align: right;\n",
              "    }\n",
              "</style>\n",
              "<table border=\"1\" class=\"dataframe\">\n",
              "  <thead>\n",
              "    <tr style=\"text-align: right;\">\n",
              "      <th></th>\n",
              "      <th>topic</th>\n",
              "      <th>speaker</th>\n",
              "      <th>quotation</th>\n",
              "      <th>popularity</th>\n",
              "    </tr>\n",
              "  </thead>\n",
              "  <tbody>\n",
              "    <tr>\n",
              "      <th>0</th>\n",
              "      <td>realestate</td>\n",
              "      <td>James Fisher</td>\n",
              "      <td>It is not a low-income immigration,</td>\n",
              "      <td>0</td>\n",
              "    </tr>\n",
              "    <tr>\n",
              "      <th>1</th>\n",
              "      <td>opinion</td>\n",
              "      <td>John Updike</td>\n",
              "      <td>a champion figure skater switching to roller s...</td>\n",
              "      <td>1</td>\n",
              "    </tr>\n",
              "    <tr>\n",
              "      <th>2</th>\n",
              "      <td>world</td>\n",
              "      <td>None</td>\n",
              "      <td>It makes it much more difficult for him to mak...</td>\n",
              "      <td>0</td>\n",
              "    </tr>\n",
              "    <tr>\n",
              "      <th>3</th>\n",
              "      <td>technology</td>\n",
              "      <td>Xavier Becerra</td>\n",
              "      <td>It puts me in a predicament,</td>\n",
              "      <td>2</td>\n",
              "    </tr>\n",
              "    <tr>\n",
              "      <th>4</th>\n",
              "      <td>books</td>\n",
              "      <td>None</td>\n",
              "      <td>A Pile of Leaves.</td>\n",
              "      <td>0</td>\n",
              "    </tr>\n",
              "  </tbody>\n",
              "</table>\n",
              "</div>"
            ],
            "text/plain": [
              "        topic  ... popularity\n",
              "0  realestate  ...          0\n",
              "1     opinion  ...          1\n",
              "2       world  ...          0\n",
              "3  technology  ...          2\n",
              "4       books  ...          0\n",
              "\n",
              "[5 rows x 4 columns]"
            ]
          },
          "metadata": {},
          "execution_count": 38
        }
      ]
    },
    {
      "cell_type": "markdown",
      "metadata": {
        "id": "C1HpquIiwv2v"
      },
      "source": [
        "Plot the counts of the most popular topics published by NYT"
      ]
    },
    {
      "cell_type": "code",
      "metadata": {
        "id": "kUbT6hXkHI99"
      },
      "source": [
        "top10 = data.groupby('topic').count()['speaker'].sort_values(ascending=False)[:10]"
      ],
      "execution_count": null,
      "outputs": []
    },
    {
      "cell_type": "code",
      "metadata": {
        "id": "V0AAhdlvJLWM",
        "colab": {
          "base_uri": "https://localhost:8080/",
          "height": 327
        },
        "outputId": "3677b060-e8c9-478c-e907-5e9f09e7f736"
      },
      "source": [
        "plt.xticks(rotation=45)\n",
        "plt.bar(list(top10.index), top10.values)\n",
        "plt.title('Counts of Different Topics')\n",
        "plt.ylabel('Counts')\n",
        "plt.xlabel('Topics')\n",
        "plt.show()"
      ],
      "execution_count": null,
      "outputs": [
        {
          "output_type": "display_data",
          "data": {
            "image/png": "[encoded data removed]",
            "text/plain": [
              "<Figure size 432x288 with 1 Axes>"
            ]
          },
          "metadata": {
            "needs_background": "light"
          }
        }
      ]
    },
    {
      "cell_type": "markdown",
      "metadata": {
        "id": "R-RgWGrvw8Fr"
      },
      "source": [
        "Print the most popular speakers for different topics "
      ]
    },
    {
      "cell_type": "code",
      "metadata": {
        "id": "ojG18UpaJy88"
      },
      "source": [
        "data_filtered = data[data.speaker != 'None']\n",
        "famous_speaker = data_filtered.groupby(['topic', 'speaker']).count()['popularity']"
      ],
      "execution_count": null,
      "outputs": []
    },
    {
      "cell_type": "code",
      "metadata": {
        "id": "z85npijIPdTp",
        "colab": {
          "base_uri": "https://localhost:8080/"
        },
        "outputId": "a8ce381c-3caf-4fac-a03e-4dfdc23b0a6d"
      },
      "source": [
        "print(\"Most Popular Speakers wrt different topics\")\n",
        "famous_speaker.sort_values(ascending=False)[:20]"
      ],
      "execution_count": null,
      "outputs": [
        {
          "output_type": "stream",
          "name": "stdout",
          "text": [
            "Most Popular Speakers wrt different topics\n"
          ]
        },
        {
          "output_type": "execute_result",
          "data": {
            "text/plain": [
              "topic     speaker               \n",
              "us        President Donald Trump    1317\n",
              "          President Trump           1086\n",
              "          Joe Biden                  611\n",
              "          Elizabeth Warren           583\n",
              "          Bernie Sanders             426\n",
              "          Nancy Pelosi               408\n",
              "          Pete Buttigieg             397\n",
              "world     President Donald Trump     288\n",
              "nyregion  Bill de Blasio             271\n",
              "opinion   President Donald Trump     265\n",
              "arts      Stephen Colbert            256\n",
              "us        Cory Booker                251\n",
              "world     Mike Pompeo                232\n",
              "opinion   President Trump            232\n",
              "world     President Trump            209\n",
              "us        Amy Klobuchar              204\n",
              "          Mitch McConnell            201\n",
              "arts      JIMMY KIMMEL               199\n",
              "business  President Trump            196\n",
              "arts      STEPHEN COLBERT            189\n",
              "Name: popularity, dtype: int64"
            ]
          },
          "metadata": {},
          "execution_count": 104
        }
      ]
    },
    {
      "cell_type": "markdown",
      "metadata": {
        "id": "O34NV-ZlxCxk"
      },
      "source": [
        "Plot the popularity of the major topics. Popularity is the average number of news outlets that share a particular news item"
      ]
    },
    {
      "cell_type": "code",
      "metadata": {
        "id": "Zt432DT1uZYr",
        "colab": {
          "base_uri": "https://localhost:8080/",
          "height": 327
        },
        "outputId": "49aec9b8-bf47-4c6f-e7d0-f981206dd6c0"
      },
      "source": [
        "popularity_top10 = data.groupby('topic').mean()['popularity'][top10.index]\n",
        "plt.xticks(rotation=45)\n",
        "plt.bar(list(popularity_top10.index), popularity_top10.values)\n",
        "plt.title('Popularity of Different Topics')\n",
        "plt.ylabel('Average Popularity')\n",
        "plt.xlabel('Topics')\n",
        "plt.show()"
      ],
      "execution_count": null,
      "outputs": [
        {
          "output_type": "display_data",
          "data": {
            "image/png": "[encoded data removed]",
            "text/plain": [
              "<Figure size 432x288 with 1 Axes>"
            ]
          },
          "metadata": {
            "needs_background": "light"
          }
        }
      ]
    },
    {
      "cell_type": "code",
      "metadata": {
        "id": "XtVft-vku-uK"
      },
      "source": [
        ""
      ],
      "execution_count": null,
      "outputs": []
    }
  ]
}