{
 "cells": [
  {
   "cell_type": "code",
   "execution_count": 1,
   "metadata": {},
   "outputs": [],
   "source": [
    "import pandas as pd\n",
    "import numpy as np"
   ]
  },
  {
   "cell_type": "code",
   "execution_count": 2,
   "metadata": {},
   "outputs": [
    {
     "name": "stderr",
     "output_type": "stream",
     "text": [
      "C:\\Users\\lucaw\\Anaconda3\\lib\\site-packages\\IPython\\core\\interactiveshell.py:3058: DtypeWarning: Columns (6) have mixed types. Specify dtype option on import or set low_memory=False.\n",
      "  interactivity=interactivity, compiler=compiler, result=result)\n"
     ]
    }
   ],
   "source": [
    "speaker_attributes = pd.read_csv(\"DATA\\speaker_attributes_parse.csv\")"
   ]
  },
  {
   "cell_type": "code",
   "execution_count": 3,
   "metadata": {},
   "outputs": [
    {
     "data": {
      "text/html": [
       "<div>\n",
       "<style scoped>\n",
       "    .dataframe tbody tr th:only-of-type {\n",
       "        vertical-align: middle;\n",
       "    }\n",
       "\n",
       "    .dataframe tbody tr th {\n",
       "        vertical-align: top;\n",
       "    }\n",
       "\n",
       "    .dataframe thead th {\n",
       "        text-align: right;\n",
       "    }\n",
       "</style>\n",
       "<table border=\"1\" class=\"dataframe\">\n",
       "  <thead>\n",
       "    <tr style=\"text-align: right;\">\n",
       "      <th></th>\n",
       "      <th>Unnamed: 0</th>\n",
       "      <th>aliases</th>\n",
       "      <th>date_of_birth</th>\n",
       "      <th>nationality</th>\n",
       "      <th>gender</th>\n",
       "      <th>ethnic_group</th>\n",
       "      <th>US_congress_bio_ID</th>\n",
       "      <th>occupation</th>\n",
       "      <th>party</th>\n",
       "      <th>academic_degree</th>\n",
       "      <th>label</th>\n",
       "      <th>candidacy</th>\n",
       "      <th>religion</th>\n",
       "    </tr>\n",
       "  </thead>\n",
       "  <tbody>\n",
       "    <tr>\n",
       "      <td>0</td>\n",
       "      <td>0</td>\n",
       "      <td>['Washington' 'President Washington' 'G. Washi...</td>\n",
       "      <td>['+1732-02-22T00:00:00Z']</td>\n",
       "      <td>['Great Britain', 'United States of America']</td>\n",
       "      <td>male</td>\n",
       "      <td>NaN</td>\n",
       "      <td>W000178</td>\n",
       "      <td>['politician', 'military officer', 'farmer', '...</td>\n",
       "      <td>['independent politician']</td>\n",
       "      <td>NaN</td>\n",
       "      <td>George Washington</td>\n",
       "      <td>['1792 United States presidential election', '...</td>\n",
       "      <td>['Episcopal Church']</td>\n",
       "    </tr>\n",
       "    <tr>\n",
       "      <td>1</td>\n",
       "      <td>1</td>\n",
       "      <td>['Douglas Noel Adams' 'Douglas Noël Adams' 'Do...</td>\n",
       "      <td>['+1952-03-11T00:00:00Z']</td>\n",
       "      <td>['United Kingdom']</td>\n",
       "      <td>male</td>\n",
       "      <td>['White British']</td>\n",
       "      <td>NaN</td>\n",
       "      <td>['playwright', 'screenwriter', 'novelist', \"ch...</td>\n",
       "      <td>NaN</td>\n",
       "      <td>NaN</td>\n",
       "      <td>Douglas Adams</td>\n",
       "      <td>NaN</td>\n",
       "      <td>NaN</td>\n",
       "    </tr>\n",
       "    <tr>\n",
       "      <td>2</td>\n",
       "      <td>2</td>\n",
       "      <td>['Paul Marie Ghislain Otlet' 'Paul Marie Otlet']</td>\n",
       "      <td>['+1868-08-23T00:00:00Z']</td>\n",
       "      <td>['Belgium']</td>\n",
       "      <td>male</td>\n",
       "      <td>NaN</td>\n",
       "      <td>NaN</td>\n",
       "      <td>['writer', 'lawyer', 'librarian', 'information...</td>\n",
       "      <td>NaN</td>\n",
       "      <td>NaN</td>\n",
       "      <td>Paul Otlet</td>\n",
       "      <td>NaN</td>\n",
       "      <td>NaN</td>\n",
       "    </tr>\n",
       "    <tr>\n",
       "      <td>3</td>\n",
       "      <td>3</td>\n",
       "      <td>['George Walker Bush' 'Bush Jr.' 'Dubya' 'GWB'...</td>\n",
       "      <td>['+1946-07-06T00:00:00Z']</td>\n",
       "      <td>['United States of America']</td>\n",
       "      <td>male</td>\n",
       "      <td>NaN</td>\n",
       "      <td>NaN</td>\n",
       "      <td>['politician', 'motivational speaker', 'autobi...</td>\n",
       "      <td>['Republican Party']</td>\n",
       "      <td>NaN</td>\n",
       "      <td>George W. Bush</td>\n",
       "      <td>['2000 United States presidential election', '...</td>\n",
       "      <td>['United Methodist Church', 'Episcopal Church'...</td>\n",
       "    </tr>\n",
       "    <tr>\n",
       "      <td>4</td>\n",
       "      <td>4</td>\n",
       "      <td>['Velázquez' 'Diego Rodríguez de Silva y Veláz...</td>\n",
       "      <td>['+1599-06-06T00:00:00Z']</td>\n",
       "      <td>['Spain']</td>\n",
       "      <td>male</td>\n",
       "      <td>NaN</td>\n",
       "      <td>NaN</td>\n",
       "      <td>['painter']</td>\n",
       "      <td>NaN</td>\n",
       "      <td>NaN</td>\n",
       "      <td>Diego Velázquez</td>\n",
       "      <td>NaN</td>\n",
       "      <td>NaN</td>\n",
       "    </tr>\n",
       "    <tr>\n",
       "      <td>...</td>\n",
       "      <td>...</td>\n",
       "      <td>...</td>\n",
       "      <td>...</td>\n",
       "      <td>...</td>\n",
       "      <td>...</td>\n",
       "      <td>...</td>\n",
       "      <td>...</td>\n",
       "      <td>...</td>\n",
       "      <td>...</td>\n",
       "      <td>...</td>\n",
       "      <td>...</td>\n",
       "      <td>...</td>\n",
       "      <td>...</td>\n",
       "    </tr>\n",
       "    <tr>\n",
       "      <td>9055976</td>\n",
       "      <td>9055976</td>\n",
       "      <td>['Barker Howard']</td>\n",
       "      <td>NaN</td>\n",
       "      <td>['United States of America']</td>\n",
       "      <td>male</td>\n",
       "      <td>NaN</td>\n",
       "      <td>NaN</td>\n",
       "      <td>['politician']</td>\n",
       "      <td>NaN</td>\n",
       "      <td>NaN</td>\n",
       "      <td>Barker B. Howard</td>\n",
       "      <td>NaN</td>\n",
       "      <td>NaN</td>\n",
       "    </tr>\n",
       "    <tr>\n",
       "      <td>9055977</td>\n",
       "      <td>9055977</td>\n",
       "      <td>['Charles Macomber']</td>\n",
       "      <td>NaN</td>\n",
       "      <td>['United States of America']</td>\n",
       "      <td>male</td>\n",
       "      <td>NaN</td>\n",
       "      <td>NaN</td>\n",
       "      <td>['politician']</td>\n",
       "      <td>NaN</td>\n",
       "      <td>NaN</td>\n",
       "      <td>Charles H. Macomber</td>\n",
       "      <td>NaN</td>\n",
       "      <td>NaN</td>\n",
       "    </tr>\n",
       "    <tr>\n",
       "      <td>9055978</td>\n",
       "      <td>9055978</td>\n",
       "      <td>NaN</td>\n",
       "      <td>['+1848-04-01T00:00:00Z']</td>\n",
       "      <td>NaN</td>\n",
       "      <td>female</td>\n",
       "      <td>NaN</td>\n",
       "      <td>NaN</td>\n",
       "      <td>NaN</td>\n",
       "      <td>NaN</td>\n",
       "      <td>NaN</td>\n",
       "      <td>Dina David</td>\n",
       "      <td>NaN</td>\n",
       "      <td>NaN</td>\n",
       "    </tr>\n",
       "    <tr>\n",
       "      <td>9055979</td>\n",
       "      <td>9055979</td>\n",
       "      <td>NaN</td>\n",
       "      <td>['+1899-03-18T00:00:00Z']</td>\n",
       "      <td>NaN</td>\n",
       "      <td>female</td>\n",
       "      <td>NaN</td>\n",
       "      <td>NaN</td>\n",
       "      <td>NaN</td>\n",
       "      <td>NaN</td>\n",
       "      <td>NaN</td>\n",
       "      <td>Irma Dexinger</td>\n",
       "      <td>NaN</td>\n",
       "      <td>NaN</td>\n",
       "    </tr>\n",
       "    <tr>\n",
       "      <td>9055980</td>\n",
       "      <td>9055980</td>\n",
       "      <td>['Fred Trull']</td>\n",
       "      <td>NaN</td>\n",
       "      <td>['United States of America']</td>\n",
       "      <td>male</td>\n",
       "      <td>NaN</td>\n",
       "      <td>NaN</td>\n",
       "      <td>['politician']</td>\n",
       "      <td>NaN</td>\n",
       "      <td>NaN</td>\n",
       "      <td>Fred F. Trull</td>\n",
       "      <td>NaN</td>\n",
       "      <td>NaN</td>\n",
       "    </tr>\n",
       "  </tbody>\n",
       "</table>\n",
       "<p>9055981 rows × 13 columns</p>\n",
       "</div>"
      ],
      "text/plain": [
       "         Unnamed: 0                                            aliases  \\\n",
       "0                 0  ['Washington' 'President Washington' 'G. Washi...   \n",
       "1                 1  ['Douglas Noel Adams' 'Douglas Noël Adams' 'Do...   \n",
       "2                 2   ['Paul Marie Ghislain Otlet' 'Paul Marie Otlet']   \n",
       "3                 3  ['George Walker Bush' 'Bush Jr.' 'Dubya' 'GWB'...   \n",
       "4                 4  ['Velázquez' 'Diego Rodríguez de Silva y Veláz...   \n",
       "...             ...                                                ...   \n",
       "9055976     9055976                                  ['Barker Howard']   \n",
       "9055977     9055977                               ['Charles Macomber']   \n",
       "9055978     9055978                                                NaN   \n",
       "9055979     9055979                                                NaN   \n",
       "9055980     9055980                                     ['Fred Trull']   \n",
       "\n",
       "                     date_of_birth  \\\n",
       "0        ['+1732-02-22T00:00:00Z']   \n",
       "1        ['+1952-03-11T00:00:00Z']   \n",
       "2        ['+1868-08-23T00:00:00Z']   \n",
       "3        ['+1946-07-06T00:00:00Z']   \n",
       "4        ['+1599-06-06T00:00:00Z']   \n",
       "...                            ...   \n",
       "9055976                        NaN   \n",
       "9055977                        NaN   \n",
       "9055978  ['+1848-04-01T00:00:00Z']   \n",
       "9055979  ['+1899-03-18T00:00:00Z']   \n",
       "9055980                        NaN   \n",
       "\n",
       "                                           nationality  gender  \\\n",
       "0        ['Great Britain', 'United States of America']    male   \n",
       "1                                   ['United Kingdom']    male   \n",
       "2                                          ['Belgium']    male   \n",
       "3                         ['United States of America']    male   \n",
       "4                                            ['Spain']    male   \n",
       "...                                                ...     ...   \n",
       "9055976                   ['United States of America']    male   \n",
       "9055977                   ['United States of America']    male   \n",
       "9055978                                            NaN  female   \n",
       "9055979                                            NaN  female   \n",
       "9055980                   ['United States of America']    male   \n",
       "\n",
       "              ethnic_group US_congress_bio_ID  \\\n",
       "0                      NaN            W000178   \n",
       "1        ['White British']                NaN   \n",
       "2                      NaN                NaN   \n",
       "3                      NaN                NaN   \n",
       "4                      NaN                NaN   \n",
       "...                    ...                ...   \n",
       "9055976                NaN                NaN   \n",
       "9055977                NaN                NaN   \n",
       "9055978                NaN                NaN   \n",
       "9055979                NaN                NaN   \n",
       "9055980                NaN                NaN   \n",
       "\n",
       "                                                occupation  \\\n",
       "0        ['politician', 'military officer', 'farmer', '...   \n",
       "1        ['playwright', 'screenwriter', 'novelist', \"ch...   \n",
       "2        ['writer', 'lawyer', 'librarian', 'information...   \n",
       "3        ['politician', 'motivational speaker', 'autobi...   \n",
       "4                                              ['painter']   \n",
       "...                                                    ...   \n",
       "9055976                                     ['politician']   \n",
       "9055977                                     ['politician']   \n",
       "9055978                                                NaN   \n",
       "9055979                                                NaN   \n",
       "9055980                                     ['politician']   \n",
       "\n",
       "                              party academic_degree                label  \\\n",
       "0        ['independent politician']             NaN    George Washington   \n",
       "1                               NaN             NaN        Douglas Adams   \n",
       "2                               NaN             NaN           Paul Otlet   \n",
       "3              ['Republican Party']             NaN       George W. Bush   \n",
       "4                               NaN             NaN      Diego Velázquez   \n",
       "...                             ...             ...                  ...   \n",
       "9055976                         NaN             NaN     Barker B. Howard   \n",
       "9055977                         NaN             NaN  Charles H. Macomber   \n",
       "9055978                         NaN             NaN           Dina David   \n",
       "9055979                         NaN             NaN        Irma Dexinger   \n",
       "9055980                         NaN             NaN        Fred F. Trull   \n",
       "\n",
       "                                                 candidacy  \\\n",
       "0        ['1792 United States presidential election', '...   \n",
       "1                                                      NaN   \n",
       "2                                                      NaN   \n",
       "3        ['2000 United States presidential election', '...   \n",
       "4                                                      NaN   \n",
       "...                                                    ...   \n",
       "9055976                                                NaN   \n",
       "9055977                                                NaN   \n",
       "9055978                                                NaN   \n",
       "9055979                                                NaN   \n",
       "9055980                                                NaN   \n",
       "\n",
       "                                                  religion  \n",
       "0                                     ['Episcopal Church']  \n",
       "1                                                      NaN  \n",
       "2                                                      NaN  \n",
       "3        ['United Methodist Church', 'Episcopal Church'...  \n",
       "4                                                      NaN  \n",
       "...                                                    ...  \n",
       "9055976                                                NaN  \n",
       "9055977                                                NaN  \n",
       "9055978                                                NaN  \n",
       "9055979                                                NaN  \n",
       "9055980                                                NaN  \n",
       "\n",
       "[9055981 rows x 13 columns]"
      ]
     },
     "execution_count": 3,
     "metadata": {},
     "output_type": "execute_result"
    }
   ],
   "source": [
    "speaker_attributes"
   ]
  },
  {
   "cell_type": "code",
   "execution_count": 4,
   "metadata": {},
   "outputs": [
    {
     "name": "stdout",
     "output_type": "stream",
     "text": [
      "<class 'pandas.core.frame.DataFrame'>\n",
      "RangeIndex: 9055981 entries, 0 to 9055980\n",
      "Data columns (total 13 columns):\n",
      "Unnamed: 0            int64\n",
      "aliases               object\n",
      "date_of_birth         object\n",
      "nationality           object\n",
      "gender                object\n",
      "ethnic_group          object\n",
      "US_congress_bio_ID    object\n",
      "occupation            object\n",
      "party                 object\n",
      "academic_degree       object\n",
      "label                 object\n",
      "candidacy             object\n",
      "religion              object\n",
      "dtypes: int64(1), object(12)\n",
      "memory usage: 898.2+ MB\n"
     ]
    }
   ],
   "source": [
    "speaker_attributes.info()"
   ]
  },
  {
   "cell_type": "code",
   "execution_count": 5,
   "metadata": {},
   "outputs": [
    {
     "data": {
      "text/plain": [
       "count     7105600\n",
       "unique         32\n",
       "top          male\n",
       "freq      5419293\n",
       "Name: gender, dtype: object"
      ]
     },
     "execution_count": 5,
     "metadata": {},
     "output_type": "execute_result"
    }
   ],
   "source": [
    "speaker_attributes['gender'].describe()"
   ]
  },
  {
   "cell_type": "code",
   "execution_count": 6,
   "metadata": {},
   "outputs": [
    {
     "data": {
      "text/plain": [
       "male                  5419293\n",
       "female                1684491\n",
       "transgender female        912\n",
       "non-binary                331\n",
       "transgender male          239\n",
       "eunuch                    129\n",
       "intersex                   65\n",
       "genderfluid                28\n",
       "genderqueer                20\n",
       "male organism              18\n",
       "transgender person         13\n",
       "cisgender female           12\n",
       "two-spirit                  8\n",
       "cisgender male              6\n",
       "agender                     6\n",
       "neutral sex                 4\n",
       "bigender                    4\n",
       "female organism             3\n",
       "transfeminine               3\n",
       "X-gender                    2\n",
       "transmasculine              2\n",
       "pangender                   1\n",
       "shemale                     1\n",
       "Erkek                       1\n",
       "androgyny                   1\n",
       "muxe                        1\n",
       "homosexuality               1\n",
       "demiboy                     1\n",
       "third gender                1\n",
       "kathoey                     1\n",
       "feminine                    1\n",
       "neutrois                    1\n",
       "Name: gender, dtype: int64"
      ]
     },
     "execution_count": 6,
     "metadata": {},
     "output_type": "execute_result"
    }
   ],
   "source": [
    "speaker_attributes['gender'].value_counts()"
   ]
  },
  {
   "cell_type": "code",
   "execution_count": 7,
   "metadata": {},
   "outputs": [
    {
     "data": {
      "text/plain": [
       "['Han Chinese people']                         37675\n",
       "['African Americans']                          18917\n",
       "['Armenians']                                  11364\n",
       "['Greeks']                                      5247\n",
       "['Albanians']                                   4049\n",
       "                                               ...  \n",
       "['English Australian', 'German Australian']        1\n",
       "['Aklanon people']                                 1\n",
       "['Soda Creek/Deep Creek Band']                     1\n",
       "['Moroccans', 'Dutch']                             1\n",
       "['Canadians', 'white people']                      1\n",
       "Name: ethnic_group, Length: 2861, dtype: int64"
      ]
     },
     "execution_count": 7,
     "metadata": {},
     "output_type": "execute_result"
    }
   ],
   "source": [
    "speaker_attributes['ethnic_group'].value_counts()"
   ]
  },
  {
   "cell_type": "code",
   "execution_count": 8,
   "metadata": {},
   "outputs": [
    {
     "data": {
      "text/plain": [
       "439086"
      ]
     },
     "execution_count": 8,
     "metadata": {},
     "output_type": "execute_result"
    }
   ],
   "source": [
    "speaker_attributes[speaker_attributes['nationality'].str.contains('United States of America').fillna(False)]['nationality'].count()"
   ]
  },
  {
   "cell_type": "code",
   "execution_count": 9,
   "metadata": {},
   "outputs": [
    {
     "data": {
      "text/plain": [
       "['United States of America']                                424048\n",
       "['France']                                                  257848\n",
       "['Germany']                                                 236696\n",
       "['Japan']                                                   177313\n",
       "['United Kingdom']                                          126788\n",
       "                                                             ...  \n",
       "['German Empire', 'Kingdom of the Netherlands']                  1\n",
       "['Germany', 'Mongolia']                                          1\n",
       "['São Tomé and Príncipe', 'Portugal']                            1\n",
       "['Azerbaijan', 'Soviet Union', 'Baku']                           1\n",
       "['Nauru', 'United Kingdom of Great Britain and Ireland']         1\n",
       "Name: nationality, Length: 16429, dtype: int64"
      ]
     },
     "execution_count": 9,
     "metadata": {},
     "output_type": "execute_result"
    }
   ],
   "source": [
    "speaker_attributes['nationality'].value_counts()"
   ]
  },
  {
   "cell_type": "code",
   "execution_count": 11,
   "metadata": {},
   "outputs": [
    {
     "data": {
      "text/plain": [
       "['Communist Party of the Soviet Union']                                                            26668\n",
       "['Democratic Party']                                                                               25826\n",
       "['Republican Party']                                                                               25090\n",
       "['Communist Party of China']                                                                       14424\n",
       "['Social Democratic Party of Germany']                                                              9622\n",
       "                                                                                                   ...  \n",
       "['Communist Party of the Soviet Union', 'Agrarian Party of Russia', 'Our Home – Russia']               1\n",
       "['Radical Liberal Party', 'Alfarista Radical Front']                                                   1\n",
       "['Party of Industrialists and Entrepreneurs of Ukraine', 'Party of Regions']                           1\n",
       "['Italian Socialist Party', 'National Fascist Party', 'Italian Liberal Party', 'Radical Party']        1\n",
       "['Likud', 'General Zionists', 'Gahal']                                                                 1\n",
       "Name: party, Length: 17138, dtype: int64"
      ]
     },
     "execution_count": 11,
     "metadata": {},
     "output_type": "execute_result"
    }
   ],
   "source": [
    "speaker_attributes['party'].value_counts()"
   ]
  },
  {
   "cell_type": "code",
   "execution_count": 13,
   "metadata": {},
   "outputs": [
    {
     "data": {
      "text/plain": [
       "NN                        592\n",
       "Li Li                     421\n",
       "unknown wife (?)          417\n",
       "Li Mou                    383\n",
       "Wei Wang                  338\n",
       "                         ... \n",
       "Anna Niemirska              1\n",
       "David G. Delaney            1\n",
       "Miguel G. Morales           1\n",
       "Dimitra Simeonidou          1\n",
       "Jaroslav Josef Svoboda      1\n",
       "Name: label, Length: 7287298, dtype: int64"
      ]
     },
     "execution_count": 13,
     "metadata": {},
     "output_type": "execute_result"
    }
   ],
   "source": [
    "speaker_attributes['label'].value_counts()"
   ]
  },
  {
   "cell_type": "code",
   "execution_count": null,
   "metadata": {},
   "outputs": [],
   "source": []
  }
 ],
 "metadata": {
  "kernelspec": {
   "display_name": "Python 3",
   "language": "python",
   "name": "python3"
  },
  "language_info": {
   "codemirror_mode": {
    "name": "ipython",
    "version": 3
   },
   "file_extension": ".py",
   "mimetype": "text/x-python",
   "name": "python",
   "nbconvert_exporter": "python",
   "pygments_lexer": "ipython3",
   "version": "3.7.4"
  }
 },
 "nbformat": 4,
 "nbformat_minor": 2
}
